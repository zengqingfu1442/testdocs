{
 "cells": [
  {
   "cell_type": "code",
   "execution_count": 1,
   "id": "6224818c-5dc6-4719-8a6f-703c0b84a96d",
   "metadata": {
    "tags": []
   },
   "outputs": [],
   "source": [
    "import pandas as pd\n",
    "import numpy as np\n",
    "import requests"
   ]
  },
  {
   "cell_type": "markdown",
   "id": "5c0d8925-778a-4d9b-857c-710619775fde",
   "metadata": {},
   "source": [
    "# 这是测试jupyter notebook能否在gitea web 上显示\n",
    "\n",
    "## 如果这些文字都能正常显示，那么说明没问题"
   ]
  },
  {
   "cell_type": "markdown",
   "id": "541d57ee-36ed-4706-8c91-27846c5bddc5",
   "metadata": {},
   "source": [
    "选项选项XXXX"
   ]
  }
 ],
 "metadata": {
  "kernelspec": {
   "display_name": "Python 3 (ipykernel)",
   "language": "python",
   "name": "python3"
  },
  "language_info": {
   "codemirror_mode": {
    "name": "ipython",
    "version": 3
   },
   "file_extension": ".py",
   "mimetype": "text/x-python",
   "name": "python",
   "nbconvert_exporter": "python",
   "pygments_lexer": "ipython3",
   "version": "3.8.10"
  }
 },
 "nbformat": 4,
 "nbformat_minor": 5
}
